{
 "cells": [
  {
   "cell_type": "markdown",
   "metadata": {},
   "source": [
    "# Model Training and Evaluation\n",
    "In this notebook, we will train machine learning models (Logistic Regression, SVM, and KNN) using the features extracted from the vectorisation process. We will evaluate their performance using K-fold cross validation."
   ]
  },
  {
   "cell_type": "markdown",
   "metadata": {},
   "source": [
    "## Set Up Dependencies"
   ]
  },
  {
   "cell_type": "code",
   "execution_count": 4,
   "metadata": {},
   "outputs": [],
   "source": [
    "import pandas as pd\n",
    "import numpy as np\n",
    "import pickle\n",
    "from sklearn.model_selection import cross_val_score, KFold\n",
    "from sklearn.linear_model import LogisticRegression\n",
    "from sklearn.svm import SVC\n",
    "from sklearn.neighbors import KNeighborsClassifier\n",
    "from sklearn.metrics import accuracy_score, classification_report, confusion_matrix"
   ]
  },
  {
   "cell_type": "markdown",
   "metadata": {},
   "source": [
    "## Load Text Representations and Labels"
   ]
  },
  {
   "cell_type": "markdown",
   "metadata": {},
   "source": [
    "Retrieve the DataFrame"
   ]
  },
  {
   "cell_type": "code",
   "execution_count": 5,
   "metadata": {},
   "outputs": [
    {
     "data": {
      "text/html": [
       "<div>\n",
       "<style scoped>\n",
       "    .dataframe tbody tr th:only-of-type {\n",
       "        vertical-align: middle;\n",
       "    }\n",
       "\n",
       "    .dataframe tbody tr th {\n",
       "        vertical-align: top;\n",
       "    }\n",
       "\n",
       "    .dataframe thead th {\n",
       "        text-align: right;\n",
       "    }\n",
       "</style>\n",
       "<table border=\"1\" class=\"dataframe\">\n",
       "  <thead>\n",
       "    <tr style=\"text-align: right;\">\n",
       "      <th></th>\n",
       "      <th>class</th>\n",
       "      <th>tweet</th>\n",
       "      <th>cleaned_text</th>\n",
       "      <th>Word2Vec</th>\n",
       "      <th>TF-IDF</th>\n",
       "      <th>SentenceTrans</th>\n",
       "    </tr>\n",
       "  </thead>\n",
       "  <tbody>\n",
       "    <tr>\n",
       "      <th>0</th>\n",
       "      <td>0</td>\n",
       "      <td>I LOVE my 10 &amp;amp; 5 but most days they remind...</td>\n",
       "      <td>I LOVE my 10 &amp;amp; 5 but most days they remind...</td>\n",
       "      <td>[love, my, amp, but, most, day, they, remind, ...</td>\n",
       "      <td>love my amp but most day they remind me why bi...</td>\n",
       "      <td>i love my  amp  but most days they remind me w...</td>\n",
       "    </tr>\n",
       "    <tr>\n",
       "      <th>1</th>\n",
       "      <td>1</td>\n",
       "      <td>She be thinking she throwing that pussy back s...</td>\n",
       "      <td>She be thinking she throwing that pussy back s...</td>\n",
       "      <td>[she, be, think, she, throw, that, pussy, back...</td>\n",
       "      <td>she be think she throw that pussy back so good...</td>\n",
       "      <td>she be thinking she throwing that pussy back s...</td>\n",
       "    </tr>\n",
       "    <tr>\n",
       "      <th>2</th>\n",
       "      <td>1</td>\n",
       "      <td>RT @lamessican: I love when bitches throw shad...</td>\n",
       "      <td>I love when bitches throw shade. Just confirms...</td>\n",
       "      <td>[love, when, bitch, throw, shade, just, confir...</td>\n",
       "      <td>love when bitch throw shade just confirm do so...</td>\n",
       "      <td>i love when bitches throw shade just confirms ...</td>\n",
       "    </tr>\n",
       "    <tr>\n",
       "      <th>3</th>\n",
       "      <td>1</td>\n",
       "      <td>If you ain't a hoe, get up out my trap house @...</td>\n",
       "      <td>If you ain't a hoe, get up out my trap house .</td>\n",
       "      <td>[if, you, ain, hoe, get, up, out, my, trap, ho...</td>\n",
       "      <td>if you ain hoe get up out my trap house</td>\n",
       "      <td>if you aint a hoe get up out my trap house</td>\n",
       "    </tr>\n",
       "    <tr>\n",
       "      <th>4</th>\n",
       "      <td>0</td>\n",
       "      <td>Just hit 40 in flappy bird.&amp;#128527;</td>\n",
       "      <td>Just hit 40 in flappy bird.&amp;#128527;</td>\n",
       "      <td>[just, hit, in, flappy, bird]</td>\n",
       "      <td>just hit in flappy bird</td>\n",
       "      <td>just hit  in flappy bird</td>\n",
       "    </tr>\n",
       "  </tbody>\n",
       "</table>\n",
       "</div>"
      ],
      "text/plain": [
       "   class                                              tweet  \\\n",
       "0      0  I LOVE my 10 &amp; 5 but most days they remind...   \n",
       "1      1  She be thinking she throwing that pussy back s...   \n",
       "2      1  RT @lamessican: I love when bitches throw shad...   \n",
       "3      1  If you ain't a hoe, get up out my trap house @...   \n",
       "4      0               Just hit 40 in flappy bird.&#128527;   \n",
       "\n",
       "                                        cleaned_text  \\\n",
       "0  I LOVE my 10 &amp; 5 but most days they remind...   \n",
       "1  She be thinking she throwing that pussy back s...   \n",
       "2  I love when bitches throw shade. Just confirms...   \n",
       "3     If you ain't a hoe, get up out my trap house .   \n",
       "4               Just hit 40 in flappy bird.&#128527;   \n",
       "\n",
       "                                            Word2Vec  \\\n",
       "0  [love, my, amp, but, most, day, they, remind, ...   \n",
       "1  [she, be, think, she, throw, that, pussy, back...   \n",
       "2  [love, when, bitch, throw, shade, just, confir...   \n",
       "3  [if, you, ain, hoe, get, up, out, my, trap, ho...   \n",
       "4                      [just, hit, in, flappy, bird]   \n",
       "\n",
       "                                              TF-IDF  \\\n",
       "0  love my amp but most day they remind me why bi...   \n",
       "1  she be think she throw that pussy back so good...   \n",
       "2  love when bitch throw shade just confirm do so...   \n",
       "3            if you ain hoe get up out my trap house   \n",
       "4                            just hit in flappy bird   \n",
       "\n",
       "                                       SentenceTrans  \n",
       "0  i love my  amp  but most days they remind me w...  \n",
       "1  she be thinking she throwing that pussy back s...  \n",
       "2  i love when bitches throw shade just confirms ...  \n",
       "3        if you aint a hoe get up out my trap house   \n",
       "4                           just hit  in flappy bird  "
      ]
     },
     "execution_count": 5,
     "metadata": {},
     "output_type": "execute_result"
    }
   ],
   "source": [
    "with open('data/df_balanced.pkl', 'rb') as f:\n",
    "    df_balanced = pickle.load(f)\n",
    "\n",
    "df_balanced.head()"
   ]
  },
  {
   "cell_type": "markdown",
   "metadata": {},
   "source": [
    "Retrieve the Text Representations"
   ]
  },
  {
   "cell_type": "code",
   "execution_count": 3,
   "metadata": {},
   "outputs": [],
   "source": [
    "x_tfidf = np.load('representations/x_tfidf.npy', allow_pickle=True)\n",
    "x_w2v = np.load('representations/x_w2v.npy', allow_pickle=True)\n",
    "x_st = np.load('representations/x_st.npy', allow_pickle=True)"
   ]
  },
  {
   "cell_type": "code",
   "execution_count": null,
   "metadata": {},
   "outputs": [],
   "source": []
  }
 ],
 "metadata": {
  "kernelspec": {
   "display_name": "venv",
   "language": "python",
   "name": "python3"
  },
  "language_info": {
   "codemirror_mode": {
    "name": "ipython",
    "version": 3
   },
   "file_extension": ".py",
   "mimetype": "text/x-python",
   "name": "python",
   "nbconvert_exporter": "python",
   "pygments_lexer": "ipython3",
   "version": "3.12.4"
  }
 },
 "nbformat": 4,
 "nbformat_minor": 2
}
