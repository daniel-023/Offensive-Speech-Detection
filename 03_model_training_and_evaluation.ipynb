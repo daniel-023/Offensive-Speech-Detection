{
 "cells": [
  {
   "cell_type": "markdown",
   "metadata": {},
   "source": [
    "# Model Training and Evaluation\n",
    "In this notebook, we will train machine learning models (Logistic Regression, SVM, and KNN) using the features extracted from the vectorisation process. We will evaluate their performance using K-fold cross validation."
   ]
  },
  {
   "cell_type": "markdown",
   "metadata": {},
   "source": [
    "## Set Up Dependencies"
   ]
  },
  {
   "cell_type": "code",
   "execution_count": 29,
   "metadata": {},
   "outputs": [],
   "source": [
    "import pandas as pd\n",
    "import numpy as np\n",
    "import pickle\n",
    "from scipy import sparse\n",
    "from sklearn.model_selection import cross_validate, KFold\n",
    "from sklearn.linear_model import LogisticRegression\n",
    "from sklearn.svm import SVC\n",
    "from sklearn.neighbors import KNeighborsClassifier\n",
    "from sklearn.metrics import make_scorer, accuracy_score, precision_score, recall_score, f1_score"
   ]
  },
  {
   "cell_type": "markdown",
   "metadata": {},
   "source": [
    "## Load Text Representations and Labels"
   ]
  },
  {
   "cell_type": "markdown",
   "metadata": {},
   "source": [
    "Retrieve the DataFrame"
   ]
  },
  {
   "cell_type": "code",
   "execution_count": 47,
   "metadata": {},
   "outputs": [
    {
     "data": {
      "text/html": [
       "<div>\n",
       "<style scoped>\n",
       "    .dataframe tbody tr th:only-of-type {\n",
       "        vertical-align: middle;\n",
       "    }\n",
       "\n",
       "    .dataframe tbody tr th {\n",
       "        vertical-align: top;\n",
       "    }\n",
       "\n",
       "    .dataframe thead th {\n",
       "        text-align: right;\n",
       "    }\n",
       "</style>\n",
       "<table border=\"1\" class=\"dataframe\">\n",
       "  <thead>\n",
       "    <tr style=\"text-align: right;\">\n",
       "      <th></th>\n",
       "      <th>class</th>\n",
       "      <th>tweet</th>\n",
       "      <th>cleaned_text</th>\n",
       "      <th>Word2Vec</th>\n",
       "      <th>TF-IDF</th>\n",
       "      <th>SentenceTrans</th>\n",
       "    </tr>\n",
       "  </thead>\n",
       "  <tbody>\n",
       "    <tr>\n",
       "      <th>0</th>\n",
       "      <td>0</td>\n",
       "      <td>I LOVE my 10 &amp;amp; 5 but most days they remind...</td>\n",
       "      <td>I LOVE my 10 &amp;amp; 5 but most days they remind...</td>\n",
       "      <td>[love, my, amp, but, most, day, they, remind, ...</td>\n",
       "      <td>love my amp but most day they remind me why bi...</td>\n",
       "      <td>i love my  amp  but most days they remind me w...</td>\n",
       "    </tr>\n",
       "    <tr>\n",
       "      <th>1</th>\n",
       "      <td>1</td>\n",
       "      <td>She be thinking she throwing that pussy back s...</td>\n",
       "      <td>She be thinking she throwing that pussy back s...</td>\n",
       "      <td>[she, be, think, she, throw, that, pussy, back...</td>\n",
       "      <td>she be think she throw that pussy back so good...</td>\n",
       "      <td>she be thinking she throwing that pussy back s...</td>\n",
       "    </tr>\n",
       "    <tr>\n",
       "      <th>2</th>\n",
       "      <td>1</td>\n",
       "      <td>RT @lamessican: I love when bitches throw shad...</td>\n",
       "      <td>I love when bitches throw shade. Just confirms...</td>\n",
       "      <td>[love, when, bitch, throw, shade, just, confir...</td>\n",
       "      <td>love when bitch throw shade just confirm do so...</td>\n",
       "      <td>i love when bitches throw shade just confirms ...</td>\n",
       "    </tr>\n",
       "    <tr>\n",
       "      <th>3</th>\n",
       "      <td>1</td>\n",
       "      <td>If you ain't a hoe, get up out my trap house @...</td>\n",
       "      <td>If you ain't a hoe, get up out my trap house .</td>\n",
       "      <td>[if, you, ain, hoe, get, up, out, my, trap, ho...</td>\n",
       "      <td>if you ain hoe get up out my trap house</td>\n",
       "      <td>if you aint a hoe get up out my trap house</td>\n",
       "    </tr>\n",
       "    <tr>\n",
       "      <th>4</th>\n",
       "      <td>0</td>\n",
       "      <td>Just hit 40 in flappy bird.&amp;#128527;</td>\n",
       "      <td>Just hit 40 in flappy bird.&amp;#128527;</td>\n",
       "      <td>[just, hit, in, flappy, bird]</td>\n",
       "      <td>just hit in flappy bird</td>\n",
       "      <td>just hit  in flappy bird</td>\n",
       "    </tr>\n",
       "  </tbody>\n",
       "</table>\n",
       "</div>"
      ],
      "text/plain": [
       "   class                                              tweet  \\\n",
       "0      0  I LOVE my 10 &amp; 5 but most days they remind...   \n",
       "1      1  She be thinking she throwing that pussy back s...   \n",
       "2      1  RT @lamessican: I love when bitches throw shad...   \n",
       "3      1  If you ain't a hoe, get up out my trap house @...   \n",
       "4      0               Just hit 40 in flappy bird.&#128527;   \n",
       "\n",
       "                                        cleaned_text  \\\n",
       "0  I LOVE my 10 &amp; 5 but most days they remind...   \n",
       "1  She be thinking she throwing that pussy back s...   \n",
       "2  I love when bitches throw shade. Just confirms...   \n",
       "3     If you ain't a hoe, get up out my trap house .   \n",
       "4               Just hit 40 in flappy bird.&#128527;   \n",
       "\n",
       "                                            Word2Vec  \\\n",
       "0  [love, my, amp, but, most, day, they, remind, ...   \n",
       "1  [she, be, think, she, throw, that, pussy, back...   \n",
       "2  [love, when, bitch, throw, shade, just, confir...   \n",
       "3  [if, you, ain, hoe, get, up, out, my, trap, ho...   \n",
       "4                      [just, hit, in, flappy, bird]   \n",
       "\n",
       "                                              TF-IDF  \\\n",
       "0  love my amp but most day they remind me why bi...   \n",
       "1  she be think she throw that pussy back so good...   \n",
       "2  love when bitch throw shade just confirm do so...   \n",
       "3            if you ain hoe get up out my trap house   \n",
       "4                            just hit in flappy bird   \n",
       "\n",
       "                                       SentenceTrans  \n",
       "0  i love my  amp  but most days they remind me w...  \n",
       "1  she be thinking she throwing that pussy back s...  \n",
       "2  i love when bitches throw shade just confirms ...  \n",
       "3        if you aint a hoe get up out my trap house   \n",
       "4                           just hit  in flappy bird  "
      ]
     },
     "execution_count": 47,
     "metadata": {},
     "output_type": "execute_result"
    }
   ],
   "source": [
    "with open('data/df_balanced.pkl', 'rb') as f:\n",
    "    df_balanced = pickle.load(f)\n",
    "\n",
    "df_balanced.head()"
   ]
  },
  {
   "cell_type": "markdown",
   "metadata": {},
   "source": [
    "Retrieve the Text Representations"
   ]
  },
  {
   "cell_type": "code",
   "execution_count": 73,
   "metadata": {},
   "outputs": [],
   "source": [
    "x_tfidf = sparse.load_npz('x_tfidf.npz')\n",
    "x_w2v = np.load('representations/x_w2v.npy', allow_pickle=True)\n",
    "x_st = np.load('representations/x_st.npy', allow_pickle=True)"
   ]
  },
  {
   "cell_type": "markdown",
   "metadata": {},
   "source": [
    "Retrieve the labels"
   ]
  },
  {
   "cell_type": "code",
   "execution_count": 25,
   "metadata": {},
   "outputs": [],
   "source": [
    "y = df_balanced['class']"
   ]
  },
  {
   "cell_type": "markdown",
   "metadata": {},
   "source": [
    "## Initialise K-Fold Cross Validation"
   ]
  },
  {
   "cell_type": "code",
   "execution_count": 75,
   "metadata": {},
   "outputs": [],
   "source": [
    "cv = KFold(n_splits=5, shuffle=True, random_state=42)\n",
    "scoring = {\n",
    "    'accuracy': 'accuracy',\n",
    "    'precision': 'precision',\n",
    "    'recall': 'recall',\n",
    "    'f1': 'f1'\n",
    "}"
   ]
  },
  {
   "cell_type": "code",
   "execution_count": 74,
   "metadata": {},
   "outputs": [
    {
     "name": "stdout",
     "output_type": "stream",
     "text": [
      "TF-IDF shape: (8326, 7924)\n",
      "Word2Vec shape: (8326, 100)\n",
      "Sentence Transformers shape: (8326, 384)\n"
     ]
    }
   ],
   "source": [
    "print(\"TF-IDF shape:\", x_tfidf.shape)\n",
    "print(\"Word2Vec shape:\", x_w2v.shape)\n",
    "print(\"Sentence Transformers shape:\", x_st.shape)"
   ]
  },
  {
   "cell_type": "markdown",
   "metadata": {},
   "source": [
    "## Classification"
   ]
  },
  {
   "cell_type": "markdown",
   "metadata": {},
   "source": [
    "### Logistic Regression"
   ]
  },
  {
   "cell_type": "code",
   "execution_count": 77,
   "metadata": {},
   "outputs": [
    {
     "name": "stdout",
     "output_type": "stream",
     "text": [
      "TF-IDF:{'fit_time': array([0.02603626, 0.02750111, 0.01592422, 0.00698638, 0.01618481]), 'score_time': array([0.00999951, 0.00598073, 0.00598359, 0.01771045, 0.        ]), 'test_accuracy': array([0.94597839, 0.93093093, 0.92912913, 0.94294294, 0.94654655]), 'test_precision': array([0.97875   , 0.96942675, 0.97880795, 0.96875   , 0.96833773]), 'test_recall': array([0.91471963, 0.89319249, 0.87871581, 0.91288344, 0.91864831]), 'test_f1': array([0.94565217, 0.92974954, 0.92606516, 0.93998737, 0.94283879])}\n",
      "W2V:{'fit_time': array([0.01637459, 0.03666639, 0.03224373, 0.02982116, 0.01637244]), 'score_time': array([0.        , 0.        , 0.00191164, 0.        , 0.01647949]), 'test_accuracy': array([0.8547419 , 0.83423423, 0.84624625, 0.84324324, 0.83723724]), 'test_precision': array([0.86899038, 0.84698795, 0.86335404, 0.83698297, 0.82432432]), 'test_recall': array([0.84462617, 0.82511737, 0.82639715, 0.84417178, 0.83979975]), 'test_f1': array([0.85663507, 0.83590963, 0.84447145, 0.840562  , 0.83199008])}\n",
      "ST:{'fit_time': array([0.0503881 , 0.06665778, 0.05322313, 0.06283045, 0.06343889]), 'score_time': array([0.        , 0.        , 0.00250793, 0.00438857, 0.00196266]), 'test_accuracy': array([0.92016807, 0.91231231, 0.91351351, 0.91711712, 0.93273273]), 'test_precision': array([0.94247246, 0.93688119, 0.94282084, 0.92365457, 0.93982074]), 'test_recall': array([0.89953271, 0.88849765, 0.882283  , 0.90552147, 0.91864831]), 'test_f1': array([0.92050209, 0.91204819, 0.91154791, 0.91449814, 0.92911392])}\n"
     ]
    }
   ],
   "source": [
    "log_reg = LogisticRegression()\n",
    "\n",
    "# TF-IDF\n",
    "TFIDF_logistic_scores = cross_validate(log_reg, x_tfidf, y, cv=cv, scoring=scoring)\n",
    "print(f'TF-IDF:{TFIDF_logistic_scores}')\n",
    "\n",
    "# Word2Vec\n",
    "W2V_logistic_scores = cross_validate(log_reg, x_w2v, y, cv=cv, scoring=scoring)\n",
    "print(f'W2V:{W2V_logistic_scores}')\n",
    "\n",
    "# Sentence Transformers\n",
    "ST_logistic_scores = cross_validate(log_reg, x_st, y, cv=cv, scoring=scoring)\n",
    "print(f'ST:{ST_logistic_scores}')"
   ]
  },
  {
   "cell_type": "code",
   "execution_count": null,
   "metadata": {},
   "outputs": [],
   "source": []
  }
 ],
 "metadata": {
  "kernelspec": {
   "display_name": "venv",
   "language": "python",
   "name": "python3"
  },
  "language_info": {
   "codemirror_mode": {
    "name": "ipython",
    "version": 3
   },
   "file_extension": ".py",
   "mimetype": "text/x-python",
   "name": "python",
   "nbconvert_exporter": "python",
   "pygments_lexer": "ipython3",
   "version": "3.12.4"
  }
 },
 "nbformat": 4,
 "nbformat_minor": 2
}
