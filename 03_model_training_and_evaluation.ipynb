{
 "cells": [
  {
   "cell_type": "markdown",
   "metadata": {},
   "source": [
    "# Model Training and Evaluation\n",
    "In this notebook, we will train machine learning models (Logistic Regression, SVM, and Random Forest) using the features extracted from the vectorisation process. We will evaluate their performance using K-fold cross validation."
   ]
  },
  {
   "cell_type": "markdown",
   "metadata": {},
   "source": [
    "## Set Up Dependencies"
   ]
  },
  {
   "cell_type": "code",
   "execution_count": 2,
   "metadata": {},
   "outputs": [],
   "source": [
    "import pandas as pd\n",
    "import numpy as np\n",
    "import pickle\n",
    "from scipy import sparse\n",
    "from sklearn.model_selection import cross_validate, KFold\n",
    "from sklearn.linear_model import LogisticRegression\n",
    "from sklearn.svm import SVC\n",
    "from sklearn.ensemble import RandomForestClassifier"
   ]
  },
  {
   "cell_type": "markdown",
   "metadata": {},
   "source": [
    "## Load Text Representations and Labels"
   ]
  },
  {
   "cell_type": "markdown",
   "metadata": {},
   "source": [
    "Retrieve the DataFrame"
   ]
  },
  {
   "cell_type": "code",
   "execution_count": 3,
   "metadata": {},
   "outputs": [
    {
     "data": {
      "text/html": [
       "<div>\n",
       "<style scoped>\n",
       "    .dataframe tbody tr th:only-of-type {\n",
       "        vertical-align: middle;\n",
       "    }\n",
       "\n",
       "    .dataframe tbody tr th {\n",
       "        vertical-align: top;\n",
       "    }\n",
       "\n",
       "    .dataframe thead th {\n",
       "        text-align: right;\n",
       "    }\n",
       "</style>\n",
       "<table border=\"1\" class=\"dataframe\">\n",
       "  <thead>\n",
       "    <tr style=\"text-align: right;\">\n",
       "      <th></th>\n",
       "      <th>class</th>\n",
       "      <th>tweet</th>\n",
       "      <th>cleaned_text</th>\n",
       "      <th>Word2Vec</th>\n",
       "      <th>TF-IDF</th>\n",
       "      <th>SentenceTrans</th>\n",
       "    </tr>\n",
       "  </thead>\n",
       "  <tbody>\n",
       "    <tr>\n",
       "      <th>0</th>\n",
       "      <td>0</td>\n",
       "      <td>I LOVE my 10 &amp;amp; 5 but most days they remind...</td>\n",
       "      <td>I LOVE my 10 &amp;amp; 5 but most days they remind...</td>\n",
       "      <td>[love, my, amp, but, most, day, they, remind, ...</td>\n",
       "      <td>love my amp but most day they remind me why bi...</td>\n",
       "      <td>i love my  amp  but most days they remind me w...</td>\n",
       "    </tr>\n",
       "    <tr>\n",
       "      <th>1</th>\n",
       "      <td>1</td>\n",
       "      <td>She be thinking she throwing that pussy back s...</td>\n",
       "      <td>She be thinking she throwing that pussy back s...</td>\n",
       "      <td>[she, be, think, she, throw, that, pussy, back...</td>\n",
       "      <td>she be think she throw that pussy back so good...</td>\n",
       "      <td>she be thinking she throwing that pussy back s...</td>\n",
       "    </tr>\n",
       "    <tr>\n",
       "      <th>2</th>\n",
       "      <td>1</td>\n",
       "      <td>RT @lamessican: I love when bitches throw shad...</td>\n",
       "      <td>I love when bitches throw shade. Just confirms...</td>\n",
       "      <td>[love, when, bitch, throw, shade, just, confir...</td>\n",
       "      <td>love when bitch throw shade just confirm do so...</td>\n",
       "      <td>i love when bitches throw shade just confirms ...</td>\n",
       "    </tr>\n",
       "    <tr>\n",
       "      <th>3</th>\n",
       "      <td>1</td>\n",
       "      <td>If you ain't a hoe, get up out my trap house @...</td>\n",
       "      <td>If you ain't a hoe, get up out my trap house .</td>\n",
       "      <td>[if, you, ain, hoe, get, up, out, my, trap, ho...</td>\n",
       "      <td>if you ain hoe get up out my trap house</td>\n",
       "      <td>if you aint a hoe get up out my trap house</td>\n",
       "    </tr>\n",
       "    <tr>\n",
       "      <th>4</th>\n",
       "      <td>0</td>\n",
       "      <td>Just hit 40 in flappy bird.&amp;#128527;</td>\n",
       "      <td>Just hit 40 in flappy bird.&amp;#128527;</td>\n",
       "      <td>[just, hit, in, flappy, bird]</td>\n",
       "      <td>just hit in flappy bird</td>\n",
       "      <td>just hit  in flappy bird</td>\n",
       "    </tr>\n",
       "  </tbody>\n",
       "</table>\n",
       "</div>"
      ],
      "text/plain": [
       "   class                                              tweet  \\\n",
       "0      0  I LOVE my 10 &amp; 5 but most days they remind...   \n",
       "1      1  She be thinking she throwing that pussy back s...   \n",
       "2      1  RT @lamessican: I love when bitches throw shad...   \n",
       "3      1  If you ain't a hoe, get up out my trap house @...   \n",
       "4      0               Just hit 40 in flappy bird.&#128527;   \n",
       "\n",
       "                                        cleaned_text  \\\n",
       "0  I LOVE my 10 &amp; 5 but most days they remind...   \n",
       "1  She be thinking she throwing that pussy back s...   \n",
       "2  I love when bitches throw shade. Just confirms...   \n",
       "3     If you ain't a hoe, get up out my trap house .   \n",
       "4               Just hit 40 in flappy bird.&#128527;   \n",
       "\n",
       "                                            Word2Vec  \\\n",
       "0  [love, my, amp, but, most, day, they, remind, ...   \n",
       "1  [she, be, think, she, throw, that, pussy, back...   \n",
       "2  [love, when, bitch, throw, shade, just, confir...   \n",
       "3  [if, you, ain, hoe, get, up, out, my, trap, ho...   \n",
       "4                      [just, hit, in, flappy, bird]   \n",
       "\n",
       "                                              TF-IDF  \\\n",
       "0  love my amp but most day they remind me why bi...   \n",
       "1  she be think she throw that pussy back so good...   \n",
       "2  love when bitch throw shade just confirm do so...   \n",
       "3            if you ain hoe get up out my trap house   \n",
       "4                            just hit in flappy bird   \n",
       "\n",
       "                                       SentenceTrans  \n",
       "0  i love my  amp  but most days they remind me w...  \n",
       "1  she be thinking she throwing that pussy back s...  \n",
       "2  i love when bitches throw shade just confirms ...  \n",
       "3        if you aint a hoe get up out my trap house   \n",
       "4                           just hit  in flappy bird  "
      ]
     },
     "execution_count": 3,
     "metadata": {},
     "output_type": "execute_result"
    }
   ],
   "source": [
    "with open('data/df_balanced.pkl', 'rb') as f:\n",
    "    df_balanced = pickle.load(f)\n",
    "\n",
    "df_balanced.head()"
   ]
  },
  {
   "cell_type": "markdown",
   "metadata": {},
   "source": [
    "Retrieve the Text Representations"
   ]
  },
  {
   "cell_type": "code",
   "execution_count": 4,
   "metadata": {},
   "outputs": [],
   "source": [
    "x_tfidf = sparse.load_npz('representations/x_tfidf.npz')\n",
    "x_w2v = np.load('representations/x_w2v.npy', allow_pickle=True)\n",
    "x_st = np.load('representations/x_st.npy', allow_pickle=True)"
   ]
  },
  {
   "cell_type": "markdown",
   "metadata": {},
   "source": [
    "Retrieve the labels"
   ]
  },
  {
   "cell_type": "code",
   "execution_count": 5,
   "metadata": {},
   "outputs": [],
   "source": [
    "y = df_balanced['class']"
   ]
  },
  {
   "cell_type": "markdown",
   "metadata": {},
   "source": [
    "## Initialise K-Fold Cross Validation"
   ]
  },
  {
   "cell_type": "code",
   "execution_count": 6,
   "metadata": {},
   "outputs": [],
   "source": [
    "cv = KFold(n_splits=5, shuffle=True, random_state=42)\n",
    "scoring = {\n",
    "    'accuracy': 'accuracy',\n",
    "    'precision': 'precision',\n",
    "    'recall': 'recall',\n",
    "    'f1': 'f1'\n",
    "}"
   ]
  },
  {
   "cell_type": "markdown",
   "metadata": {},
   "source": [
    "## Checking the Dimensionality of Feature Matrices\n",
    "Ensure that the vectors are correctly formatted with a shape of (n_samples, n_features)"
   ]
  },
  {
   "cell_type": "code",
   "execution_count": 7,
   "metadata": {},
   "outputs": [
    {
     "name": "stdout",
     "output_type": "stream",
     "text": [
      "TF-IDF shape: (8326, 7924)\n",
      "Word2Vec shape: (8326, 100)\n",
      "Sentence Transformers shape: (8326, 384)\n"
     ]
    }
   ],
   "source": [
    "print(\"TF-IDF shape:\", x_tfidf.shape)\n",
    "print(\"Word2Vec shape:\", x_w2v.shape)\n",
    "print(\"Sentence Transformers shape:\", x_st.shape)"
   ]
  },
  {
   "cell_type": "markdown",
   "metadata": {},
   "source": [
    "## Initialise Results Dictionary"
   ]
  },
  {
   "cell_type": "code",
   "execution_count": 8,
   "metadata": {},
   "outputs": [],
   "source": [
    "results = {\n",
    "    'TF-IDF': {\n",
    "        'Logistic Regression': {\n",
    "            'accuracy': None,\n",
    "            'precision': None,\n",
    "            'recall': None,\n",
    "            'f1': None\n",
    "        },\n",
    "        'SVM': {\n",
    "            'accuracy': None,\n",
    "            'precision': None,\n",
    "            'recall': None,\n",
    "            'f1': None\n",
    "        },\n",
    "        'Random Forest': {\n",
    "            'accuracy': None,\n",
    "            'precision': None,\n",
    "            'recall': None,\n",
    "            'f1': None\n",
    "        }\n",
    "    },\n",
    "    'Word2Vec': {\n",
    "        'Logistic Regression': {\n",
    "            'accuracy': None,\n",
    "            'precision': None,\n",
    "            'recall': None,\n",
    "            'f1': None\n",
    "        },\n",
    "        'SVM': {\n",
    "            'accuracy': None,\n",
    "            'precision': None,\n",
    "            'recall': None,\n",
    "            'f1': None\n",
    "        },\n",
    "        'Random Forest': {\n",
    "            'accuracy': None,\n",
    "            'precision': None,\n",
    "            'recall': None,\n",
    "            'f1': None\n",
    "        }\n",
    "    },\n",
    "    'Sentence Transformers': {\n",
    "        'Logistic Regression': {\n",
    "            'accuracy': None,\n",
    "            'precision': None,\n",
    "            'recall': None,\n",
    "            'f1': None\n",
    "        },\n",
    "        'SVM': {\n",
    "            'accuracy': None,\n",
    "            'precision': None,\n",
    "            'recall': None,\n",
    "            'f1': None\n",
    "        },\n",
    "        'Random Forest': {\n",
    "            'accuracy': None,\n",
    "            'precision': None,\n",
    "            'recall': None,\n",
    "            'f1': None\n",
    "        }\n",
    "    }\n",
    "}"
   ]
  },
  {
   "cell_type": "markdown",
   "metadata": {},
   "source": [
    "## Classification"
   ]
  },
  {
   "cell_type": "markdown",
   "metadata": {},
   "source": [
    "A brief overview of the classification techniques employed (from [geeksforgeeks](https://www.geeksforgeeks.org/)):\n",
    "\n",
    "- Logistic Regression\n",
    "\n",
    "    A supervised machine learning algorithm for binary classification tasks (binomial logistic regression). It uses a sigmoid function to take in independent variables and produce a probability value between 0 and 1.\n",
    "\n",
    "- Support Vector Machine (SVM)\n",
    "\n",
    "    A supervised machine learning algorithm for linear or non-linear classification, regression, and outlier detection. Its main objective is to find the optimal hyperplane in a n-dimensional space that can separate the data into different classes in the feature space. \n",
    "\n",
    "- Random Forest\n",
    "\n",
    "    A tree learning algorithm in machine learning. It creates a number of decision trees during the training phase, with each tree constructed with a random subset of the data with a random subset of features. In prediction, the algorithm aggregates the results of all trees, either by voting (classification) or averaging (regression). \n"
   ]
  },
  {
   "cell_type": "markdown",
   "metadata": {},
   "source": [
    "Define vectorisation methods and text representations"
   ]
  },
  {
   "cell_type": "code",
   "execution_count": 9,
   "metadata": {},
   "outputs": [],
   "source": [
    "vectorisations = {\n",
    "    'TF-IDF': x_tfidf,\n",
    "    'Word2Vec': x_w2v,\n",
    "    'Sentence Transformers': x_st\n",
    "}"
   ]
  },
  {
   "cell_type": "markdown",
   "metadata": {},
   "source": [
    "Initialising classifiers"
   ]
  },
  {
   "cell_type": "code",
   "execution_count": 10,
   "metadata": {},
   "outputs": [],
   "source": [
    "classifiers = {\n",
    "    'Logistic Regression': LogisticRegression(max_iter=1000),\n",
    "    'SVM': SVC(kernel='linear'),  \n",
    "    'Random Forest': RandomForestClassifier(n_estimators=100, random_state=42)\n",
    "}"
   ]
  },
  {
   "cell_type": "markdown",
   "metadata": {},
   "source": [
    "Iterating over vectorisation methods and performing cross-validation"
   ]
  },
  {
   "cell_type": "code",
   "execution_count": 11,
   "metadata": {},
   "outputs": [
    {
     "name": "stdout",
     "output_type": "stream",
     "text": [
      "{'TF-IDF': {'Logistic Regression': {'accuracy': 0.9391055881812184, 'precision': 0.9728144858965873, 'recall': 0.9036319349816964, 'f1': 0.9368586073952276}, 'SVM': {'accuracy': 0.9489545007192065, 'precision': 0.9751041968972315, 'recall': 0.921581908282521, 'f1': 0.9475267252925155}, 'Random Forest': {'accuracy': 0.9469124586771646, 'precision': 0.9665930753879118, 'recall': 0.9258183052803337, 'f1': 0.9456852811216745}}, 'Word2Vec': {'Logistic Regression': {'accuracy': 0.8431405715439328, 'precision': 0.8481279332767697, 'recall': 0.8360224428397979, 'f1': 0.8419136465342361}, 'SVM': {'accuracy': 0.8558717901575044, 'precision': 0.8655969741228402, 'recall': 0.8428452658665702, 'f1': 0.853872758724537}, 'Random Forest': {'accuracy': 0.8732862514375119, 'precision': 0.8930938248898203, 'recall': 0.8480535719066079, 'f1': 0.8698458946701276}}, 'Sentence Transformers': {'Logistic Regression': {'accuracy': 0.9191687485805133, 'precision': 0.9371299595629475, 'recall': 0.8988966284151949, 'f1': 0.9175420523367557}, 'SVM': {'accuracy': 0.9221713910789541, 'precision': 0.9448222893643627, 'recall': 0.8970174198290612, 'f1': 0.920205272473844}, 'Random Forest': {'accuracy': 0.8976695543082098, 'precision': 0.9302856914739586, 'recall': 0.8603014012527975, 'f1': 0.8937448013233347}}}\n"
     ]
    }
   ],
   "source": [
    "for method_name, vectorisation in vectorisations.items():\n",
    "    for clf_name, clf in classifiers.items():\n",
    "        scores = cross_validate(clf, vectorisation, y, cv=cv, scoring=scoring)\n",
    "        results[method_name][clf_name]['accuracy'] = scores['test_accuracy'].mean()\n",
    "        results[method_name][clf_name]['precision'] = scores['test_precision'].mean()\n",
    "        results[method_name][clf_name]['recall'] = scores['test_recall'].mean()\n",
    "        results[method_name][clf_name]['f1'] = scores['test_f1'].mean()\n",
    "\n",
    "print(results)"
   ]
  },
  {
   "cell_type": "markdown",
   "metadata": {},
   "source": [
    "Convert the results dictionary into a DataFrame\n",
    "\n",
    "- Dictionary comprehension to create a new dictionary where the keys are tuples containing the vectorisation method and classification technique\n",
    "- `pd.DataFrame.from_dict()`: converts the flattened dictionary into a DataFrame\n",
    "- `orient='index'`: Specifies the dictionary keys (the vectorisation-classifier tuple) as the row labels, and the dictionary values as the row data"
   ]
  },
  {
   "cell_type": "code",
   "execution_count": 12,
   "metadata": {},
   "outputs": [
    {
     "data": {
      "text/html": [
       "<div>\n",
       "<style scoped>\n",
       "    .dataframe tbody tr th:only-of-type {\n",
       "        vertical-align: middle;\n",
       "    }\n",
       "\n",
       "    .dataframe tbody tr th {\n",
       "        vertical-align: top;\n",
       "    }\n",
       "\n",
       "    .dataframe thead th {\n",
       "        text-align: right;\n",
       "    }\n",
       "</style>\n",
       "<table border=\"1\" class=\"dataframe\">\n",
       "  <thead>\n",
       "    <tr style=\"text-align: right;\">\n",
       "      <th></th>\n",
       "      <th></th>\n",
       "      <th>accuracy</th>\n",
       "      <th>precision</th>\n",
       "      <th>recall</th>\n",
       "      <th>f1</th>\n",
       "    </tr>\n",
       "  </thead>\n",
       "  <tbody>\n",
       "    <tr>\n",
       "      <th rowspan=\"3\" valign=\"top\">TF-IDF</th>\n",
       "      <th>Logistic Regression</th>\n",
       "      <td>0.939106</td>\n",
       "      <td>0.972814</td>\n",
       "      <td>0.903632</td>\n",
       "      <td>0.936859</td>\n",
       "    </tr>\n",
       "    <tr>\n",
       "      <th>SVM</th>\n",
       "      <td>0.948955</td>\n",
       "      <td>0.975104</td>\n",
       "      <td>0.921582</td>\n",
       "      <td>0.947527</td>\n",
       "    </tr>\n",
       "    <tr>\n",
       "      <th>Random Forest</th>\n",
       "      <td>0.946912</td>\n",
       "      <td>0.966593</td>\n",
       "      <td>0.925818</td>\n",
       "      <td>0.945685</td>\n",
       "    </tr>\n",
       "    <tr>\n",
       "      <th rowspan=\"3\" valign=\"top\">Word2Vec</th>\n",
       "      <th>Logistic Regression</th>\n",
       "      <td>0.843141</td>\n",
       "      <td>0.848128</td>\n",
       "      <td>0.836022</td>\n",
       "      <td>0.841914</td>\n",
       "    </tr>\n",
       "    <tr>\n",
       "      <th>SVM</th>\n",
       "      <td>0.855872</td>\n",
       "      <td>0.865597</td>\n",
       "      <td>0.842845</td>\n",
       "      <td>0.853873</td>\n",
       "    </tr>\n",
       "    <tr>\n",
       "      <th>Random Forest</th>\n",
       "      <td>0.873286</td>\n",
       "      <td>0.893094</td>\n",
       "      <td>0.848054</td>\n",
       "      <td>0.869846</td>\n",
       "    </tr>\n",
       "    <tr>\n",
       "      <th rowspan=\"3\" valign=\"top\">Sentence Transformers</th>\n",
       "      <th>Logistic Regression</th>\n",
       "      <td>0.919169</td>\n",
       "      <td>0.937130</td>\n",
       "      <td>0.898897</td>\n",
       "      <td>0.917542</td>\n",
       "    </tr>\n",
       "    <tr>\n",
       "      <th>SVM</th>\n",
       "      <td>0.922171</td>\n",
       "      <td>0.944822</td>\n",
       "      <td>0.897017</td>\n",
       "      <td>0.920205</td>\n",
       "    </tr>\n",
       "    <tr>\n",
       "      <th>Random Forest</th>\n",
       "      <td>0.897670</td>\n",
       "      <td>0.930286</td>\n",
       "      <td>0.860301</td>\n",
       "      <td>0.893745</td>\n",
       "    </tr>\n",
       "  </tbody>\n",
       "</table>\n",
       "</div>"
      ],
      "text/plain": [
       "                                           accuracy  precision    recall  \\\n",
       "TF-IDF                Logistic Regression  0.939106   0.972814  0.903632   \n",
       "                      SVM                  0.948955   0.975104  0.921582   \n",
       "                      Random Forest        0.946912   0.966593  0.925818   \n",
       "Word2Vec              Logistic Regression  0.843141   0.848128  0.836022   \n",
       "                      SVM                  0.855872   0.865597  0.842845   \n",
       "                      Random Forest        0.873286   0.893094  0.848054   \n",
       "Sentence Transformers Logistic Regression  0.919169   0.937130  0.898897   \n",
       "                      SVM                  0.922171   0.944822  0.897017   \n",
       "                      Random Forest        0.897670   0.930286  0.860301   \n",
       "\n",
       "                                                 f1  \n",
       "TF-IDF                Logistic Regression  0.936859  \n",
       "                      SVM                  0.947527  \n",
       "                      Random Forest        0.945685  \n",
       "Word2Vec              Logistic Regression  0.841914  \n",
       "                      SVM                  0.853873  \n",
       "                      Random Forest        0.869846  \n",
       "Sentence Transformers Logistic Regression  0.917542  \n",
       "                      SVM                  0.920205  \n",
       "                      Random Forest        0.893745  "
      ]
     },
     "execution_count": 12,
     "metadata": {},
     "output_type": "execute_result"
    }
   ],
   "source": [
    "results_df = pd.DataFrame.from_dict({(i, j): results[i][j]\n",
    "                                     for i in results.keys()\n",
    "                                     for j in results[i].keys()},\n",
    "                                     orient='index')  # Dictionary keys are treated as labels\n",
    "\n",
    "results_df.head(10)"
   ]
  },
  {
   "cell_type": "markdown",
   "metadata": {},
   "source": [
    "We save the DataFrame for use in the next notebook"
   ]
  },
  {
   "cell_type": "code",
   "execution_count": 13,
   "metadata": {},
   "outputs": [],
   "source": [
    "with open('results/results_df.pkl', 'wb') as f:\n",
    "    pickle.dump(results_df, f)"
   ]
  }
 ],
 "metadata": {
  "kernelspec": {
   "display_name": "venv",
   "language": "python",
   "name": "python3"
  },
  "language_info": {
   "codemirror_mode": {
    "name": "ipython",
    "version": 3
   },
   "file_extension": ".py",
   "mimetype": "text/x-python",
   "name": "python",
   "nbconvert_exporter": "python",
   "pygments_lexer": "ipython3",
   "version": "3.12.4"
  }
 },
 "nbformat": 4,
 "nbformat_minor": 2
}
